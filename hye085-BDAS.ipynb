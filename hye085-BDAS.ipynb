{
 "cells": [
  {
   "cell_type": "code",
   "execution_count": 1,
   "metadata": {},
   "outputs": [],
   "source": [
    "# Must be included at the beginning of each new notebook. Remember to change the app name.\n",
    "import findspark\n",
    "findspark.init('/home/ubuntu/spark-2.1.1-bin-hadoop2.7')\n",
    "import pyspark\n",
    "from pyspark.sql import SparkSession\n",
    "import pyspark.sql.functions as F\n",
    "spark = SparkSession.builder.appName('hye085').getOrCreate()"
   ]
  },
  {
   "cell_type": "code",
   "execution_count": 2,
   "metadata": {},
   "outputs": [],
   "source": [
    "df = spark.read.csv('Datasets/hotel_bookings.csv',inferSchema=True,header=True)"
   ]
  },
  {
   "cell_type": "code",
   "execution_count": 33,
   "metadata": {},
   "outputs": [
    {
     "data": {
      "text/plain": [
       "['hotel',\n",
       " 'is_canceled',\n",
       " 'lead_time',\n",
       " 'arrival_date_year',\n",
       " 'arrival_date_month',\n",
       " 'arrival_date_week_number',\n",
       " 'arrival_date_day_of_month',\n",
       " 'stays_in_weekend_nights',\n",
       " 'stays_in_week_nights',\n",
       " 'adults',\n",
       " 'children',\n",
       " 'babies',\n",
       " 'meal',\n",
       " 'country',\n",
       " 'market_segment',\n",
       " 'distribution_channel',\n",
       " 'is_repeated_guest',\n",
       " 'previous_cancellations',\n",
       " 'previous_bookings_not_canceled',\n",
       " 'reserved_room_type',\n",
       " 'assigned_room_type',\n",
       " 'booking_changes',\n",
       " 'deposit_type',\n",
       " 'agent',\n",
       " 'company',\n",
       " 'days_in_waiting_list',\n",
       " 'customer_type',\n",
       " 'adr',\n",
       " 'required_car_parking_spaces',\n",
       " 'total_of_special_requests',\n",
       " 'reservation_status',\n",
       " 'reservation_status_date']"
      ]
     },
     "execution_count": 33,
     "metadata": {},
     "output_type": "execute_result"
    }
   ],
   "source": [
    "df.columns"
   ]
  },
  {
   "cell_type": "code",
   "execution_count": 47,
   "metadata": {},
   "outputs": [
    {
     "name": "stdout",
     "output_type": "stream",
     "text": [
      "+-------+------------+-------------------+------------------+------------------+------------------+------------------------+-------------------------+-----------------------+--------------------+------------------+-------------------+--------------------+---------+-------+--------------+--------------------+-------------------+----------------------+------------------------------+------------------+------------------+-------------------+------------+------------------+------------------+--------------------+---------------+------------------+---------------------------+-------------------------+------------------+-----------------------+\n",
      "|summary|       hotel|        is_canceled|         lead_time| arrival_date_year|arrival_date_month|arrival_date_week_number|arrival_date_day_of_month|stays_in_weekend_nights|stays_in_week_nights|            adults|           children|              babies|     meal|country|market_segment|distribution_channel|  is_repeated_guest|previous_cancellations|previous_bookings_not_canceled|reserved_room_type|assigned_room_type|    booking_changes|deposit_type|             agent|           company|days_in_waiting_list|  customer_type|               adr|required_car_parking_spaces|total_of_special_requests|reservation_status|reservation_status_date|\n",
      "+-------+------------+-------------------+------------------+------------------+------------------+------------------------+-------------------------+-----------------------+--------------------+------------------+-------------------+--------------------+---------+-------+--------------+--------------------+-------------------+----------------------+------------------------------+------------------+------------------+-------------------+------------+------------------+------------------+--------------------+---------------+------------------+---------------------------+-------------------------+------------------+-----------------------+\n",
      "|  count|      119390|             119390|            119390|            119390|            119390|                  119390|                   119390|                 119390|              119390|            119390|             119386|              119390|   119390| 118902|        119390|              119390|             119390|                119390|                        119390|            119390|            119390|             119390|      119390|            103050|              6797|              119390|         119390|            119390|                     119390|                   119390|            119390|                 119390|\n",
      "|   mean|        null|0.37041628277075134|104.01141636652986| 2016.156554150264|              null|       27.16517296255968|       15.798241058715135|     0.9275986263506156|   2.500301532791691|1.8564033838679956|0.10388990333874994|0.007948739425412514|     null|   null|          null|                null|0.03191222045397437|   0.08711784906608594|           0.13709690928888515|              null|              null|0.22112404724013737|        null| 86.69338185346919|189.26673532440782|   2.321149174972778|           null|101.83112153446453|        0.06251779881062065|       0.5713627607002262|              null|                   null|\n",
      "| stddev|        null| 0.4829182265925979|106.86309704798747|0.7074759445234089|              null|      13.605138355497662|        8.780829470578274|     0.9986134945978816|  1.9082856150479093|0.5792609988327523|0.39856144478644223| 0.09743619130126377|     null|   null|          null|                null| 0.1757671454106562|    0.8443363841545092|             1.497436847707674|              null|              null| 0.6523055726747685|        null|110.77454764295138| 131.6550146385124|  17.594720878776315|           null| 50.53579028554864|        0.24529114746749567|       0.7927984228094157|              null|                   null|\n",
      "|    min|  City Hotel|                  0|                 0|              2015|             April|                       1|                        1|                      0|                   0|                 0|                  0|                   0|       BB|    ABW|      Aviation|           Corporate|                  0|                     0|                             0|                 A|                 A|                  0|  No Deposit|                 1|                 6|                   0|       Contract|             -6.38|                          0|                        0|          Canceled|             2014/10/17|\n",
      "|    max|Resort Hotel|                  1|               737|              2017|         September|                      53|                       31|                     19|                  50|                55|                 10|                  10|Undefined|    ZWE|     Undefined|           Undefined|                  1|                    26|                            72|                 P|                 P|                 21|  Refundable|               535|               543|                 391|Transient-Party|            5400.0|                          8|                        5|           No-Show|               2017/9/9|\n",
      "+-------+------------+-------------------+------------------+------------------+------------------+------------------------+-------------------------+-----------------------+--------------------+------------------+-------------------+--------------------+---------+-------+--------------+--------------------+-------------------+----------------------+------------------------------+------------------+------------------+-------------------+------------+------------------+------------------+--------------------+---------------+------------------+---------------------------+-------------------------+------------------+-----------------------+\n",
      "\n"
     ]
    }
   ],
   "source": [
    "df.describe().show()"
   ]
  },
  {
   "cell_type": "code",
   "execution_count": 34,
   "metadata": {},
   "outputs": [
    {
     "data": {
      "text/plain": [
       "Row(hotel='Resort Hotel', is_canceled=0, lead_time=342, arrival_date_year=2015, arrival_date_month='July', arrival_date_week_number=27, arrival_date_day_of_month=1, stays_in_weekend_nights=0, stays_in_week_nights=0, adults=2, children='0', babies=0, meal='BB', country='PRT', market_segment='Direct', distribution_channel='Direct', is_repeated_guest=0, previous_cancellations=0, previous_bookings_not_canceled=0, reserved_room_type='C', assigned_room_type='C', booking_changes=3, deposit_type='No Deposit', agent=None, company=None, days_in_waiting_list=0, customer_type='Transient', adr=0.0, required_car_parking_spaces=0, total_of_special_requests=0, reservation_status='Check-Out', reservation_status_date='2015/7/1')"
      ]
     },
     "execution_count": 34,
     "metadata": {},
     "output_type": "execute_result"
    }
   ],
   "source": [
    "df.head()"
   ]
  },
  {
   "cell_type": "code",
   "execution_count": 3,
   "metadata": {},
   "outputs": [
    {
     "name": "stdout",
     "output_type": "stream",
     "text": [
      "root\n",
      " |-- hotel: string (nullable = true)\n",
      " |-- is_canceled: integer (nullable = true)\n",
      " |-- lead_time: integer (nullable = true)\n",
      " |-- arrival_date_year: integer (nullable = true)\n",
      " |-- arrival_date_month: string (nullable = true)\n",
      " |-- arrival_date_week_number: integer (nullable = true)\n",
      " |-- arrival_date_day_of_month: integer (nullable = true)\n",
      " |-- stays_in_weekend_nights: integer (nullable = true)\n",
      " |-- stays_in_week_nights: integer (nullable = true)\n",
      " |-- adults: integer (nullable = true)\n",
      " |-- children: integer (nullable = true)\n",
      " |-- babies: integer (nullable = true)\n",
      " |-- meal: string (nullable = true)\n",
      " |-- country: string (nullable = true)\n",
      " |-- market_segment: string (nullable = true)\n",
      " |-- distribution_channel: string (nullable = true)\n",
      " |-- is_repeated_guest: integer (nullable = true)\n",
      " |-- previous_cancellations: integer (nullable = true)\n",
      " |-- previous_bookings_not_canceled: integer (nullable = true)\n",
      " |-- reserved_room_type: string (nullable = true)\n",
      " |-- assigned_room_type: string (nullable = true)\n",
      " |-- booking_changes: integer (nullable = true)\n",
      " |-- deposit_type: string (nullable = true)\n",
      " |-- agent: integer (nullable = true)\n",
      " |-- company: integer (nullable = true)\n",
      " |-- days_in_waiting_list: integer (nullable = true)\n",
      " |-- customer_type: string (nullable = true)\n",
      " |-- adr: double (nullable = true)\n",
      " |-- required_car_parking_spaces: integer (nullable = true)\n",
      " |-- total_of_special_requests: integer (nullable = true)\n",
      " |-- reservation_status: string (nullable = true)\n",
      " |-- reservation_status_date: string (nullable = true)\n",
      "\n"
     ]
    }
   ],
   "source": [
    "from pyspark.sql.types import IntegerType\n",
    "df = df.withColumn(\"children\", df[\"children\"].cast(IntegerType()))\n",
    "df.printSchema()"
   ]
  },
  {
   "cell_type": "code",
   "execution_count": 36,
   "metadata": {},
   "outputs": [
    {
     "name": "stdout",
     "output_type": "stream",
     "text": [
      "+------------+\n",
      "|       hotel|\n",
      "+------------+\n",
      "|Resort Hotel|\n",
      "|Resort Hotel|\n",
      "|Resort Hotel|\n",
      "|Resort Hotel|\n",
      "|Resort Hotel|\n",
      "|Resort Hotel|\n",
      "|Resort Hotel|\n",
      "|Resort Hotel|\n",
      "|Resort Hotel|\n",
      "|Resort Hotel|\n",
      "|Resort Hotel|\n",
      "|Resort Hotel|\n",
      "|Resort Hotel|\n",
      "|Resort Hotel|\n",
      "|Resort Hotel|\n",
      "|Resort Hotel|\n",
      "|Resort Hotel|\n",
      "|Resort Hotel|\n",
      "|Resort Hotel|\n",
      "|Resort Hotel|\n",
      "+------------+\n",
      "only showing top 20 rows\n",
      "\n"
     ]
    }
   ],
   "source": [
    "df.select(\"hotel\").show()"
   ]
  },
  {
   "cell_type": "code",
   "execution_count": 39,
   "metadata": {},
   "outputs": [
    {
     "name": "stdout",
     "output_type": "stream",
     "text": [
      "(119390, 32)\n"
     ]
    }
   ],
   "source": [
    "print((df.count(), len(df.columns)))"
   ]
  },
  {
   "cell_type": "code",
   "execution_count": 4,
   "metadata": {},
   "outputs": [
    {
     "name": "stdout",
     "output_type": "stream",
     "text": [
      "+--------------------+----------+\n",
      "|         Column_Name|NULL_Count|\n",
      "+--------------------+----------+\n",
      "|               hotel|         0|\n",
      "|         is_canceled|         0|\n",
      "|           lead_time|         0|\n",
      "|   arrival_date_year|         0|\n",
      "|  arrival_date_month|         0|\n",
      "|arrival_date_week...|         0|\n",
      "|arrival_date_day_...|         0|\n",
      "|stays_in_weekend_...|         0|\n",
      "|stays_in_week_nights|         0|\n",
      "|              adults|         0|\n",
      "|            children|         4|\n",
      "|              babies|         0|\n",
      "|                meal|         0|\n",
      "|             country|       488|\n",
      "|      market_segment|         0|\n",
      "|distribution_channel|         0|\n",
      "|   is_repeated_guest|         0|\n",
      "|previous_cancella...|         0|\n",
      "|previous_bookings...|         0|\n",
      "|  reserved_room_type|         0|\n",
      "|  assigned_room_type|         0|\n",
      "|     booking_changes|         0|\n",
      "|        deposit_type|         0|\n",
      "|               agent|     16340|\n",
      "|             company|    112593|\n",
      "|days_in_waiting_list|         0|\n",
      "|       customer_type|         0|\n",
      "|                 adr|         0|\n",
      "|required_car_park...|         0|\n",
      "|total_of_special_...|         0|\n",
      "|  reservation_status|         0|\n",
      "|reservation_statu...|         0|\n",
      "+--------------------+----------+\n",
      "\n"
     ]
    }
   ],
   "source": [
    "# View rows containing NULL values\n",
    "import pyspark.sql.functions as pyfunc\n",
    "from functools import reduce\n",
    "df_agg_col = reduce(\n",
    "    lambda a, b: a.union(b),\n",
    "    (\n",
    "        df.agg(\n",
    "            pyfunc.count(pyfunc.when(pyfunc.isnull(c), c)).alias('NULL_Count')\n",
    "        ).select(pyfunc.lit(c).alias(\"Column_Name\"), \"NULL_Count\")\n",
    "        for c in df.columns\n",
    "    )\n",
    ")\n",
    "df_agg_col.show(len(df.columns))"
   ]
  },
  {
   "cell_type": "code",
   "execution_count": 5,
   "metadata": {},
   "outputs": [
    {
     "name": "stdout",
     "output_type": "stream",
     "text": [
      "+--------------------+----------+\n",
      "|         Column_Name|NULL_Count|\n",
      "+--------------------+----------+\n",
      "|               hotel|         0|\n",
      "|         is_canceled|         0|\n",
      "|           lead_time|         0|\n",
      "|   arrival_date_year|         0|\n",
      "|  arrival_date_month|         0|\n",
      "|arrival_date_week...|         0|\n",
      "|arrival_date_day_...|         0|\n",
      "|stays_in_weekend_...|         0|\n",
      "|stays_in_week_nights|         0|\n",
      "|              adults|         0|\n",
      "|            children|         0|\n",
      "|              babies|         0|\n",
      "|                meal|         0|\n",
      "|             country|         0|\n",
      "|      market_segment|         0|\n",
      "|distribution_channel|         0|\n",
      "|   is_repeated_guest|         0|\n",
      "|previous_cancella...|         0|\n",
      "|previous_bookings...|         0|\n",
      "|  reserved_room_type|         0|\n",
      "|  assigned_room_type|         0|\n",
      "|     booking_changes|         0|\n",
      "|        deposit_type|         0|\n",
      "|               agent|         0|\n",
      "|             company|         0|\n",
      "|days_in_waiting_list|         0|\n",
      "|       customer_type|         0|\n",
      "|                 adr|         0|\n",
      "|required_car_park...|         0|\n",
      "|total_of_special_...|         0|\n",
      "|  reservation_status|         0|\n",
      "|reservation_statu...|         0|\n",
      "+--------------------+----------+\n",
      "\n"
     ]
    }
   ],
   "source": [
    "# Replace missing values:\n",
    "na_replacements = {\"children\":0.0, \"country\": \"Unknown\", \"agent\": 0, \"company\": 0}\n",
    "df_clean = df.na.fill(na_replacements)\n",
    "df_agg_col = reduce(\n",
    "    lambda a, b: a.union(b),\n",
    "    (\n",
    "        df_clean.agg(\n",
    "            pyfunc.count(pyfunc.when(pyfunc.isnull(c), c)).alias('NULL_Count')\n",
    "        ).select(pyfunc.lit(c).alias(\"Column_Name\"), \"NULL_Count\")\n",
    "        for c in df.columns\n",
    "    )\n",
    ")\n",
    "df_agg_col.show(len(df_clean.columns))"
   ]
  },
  {
   "cell_type": "code",
   "execution_count": 5,
   "metadata": {},
   "outputs": [
    {
     "name": "stdout",
     "output_type": "stream",
     "text": [
      "+------------+-----+\n",
      "|       hotel|count|\n",
      "+------------+-----+\n",
      "|Resort Hotel|40060|\n",
      "|  City Hotel|79330|\n",
      "+------------+-----+\n",
      "\n"
     ]
    }
   ],
   "source": [
    "df_clean.groupBy('hotel').count().orderBy('count').show()"
   ]
  },
  {
   "cell_type": "code",
   "execution_count": 5,
   "metadata": {},
   "outputs": [
    {
     "data": {
      "image/png": "[encoded data removed]",
      "text/plain": [
       "<Figure size 576x576 with 1 Axes>"
      ]
     },
     "metadata": {},
     "output_type": "display_data"
    }
   ],
   "source": [
    "import seaborn as sns\n",
    "from matplotlib import pyplot as plt\n",
    "%matplotlib inline\n",
    "\n",
    "# Enlarging the pie chart\n",
    "plt.rcParams['figure.figsize'] = 8,8\n",
    "\n",
    "# Indexing labels. tolist() will convert the index to list for easy manipulation\n",
    "label=df_clean.select('hotel').distinct().collect()\n",
    "labels = [label[i]['hotel'] for i in range(0, len(label))]\n",
    "\n",
    "# Convert value counts to list\n",
    "size = df_clean.groupBy('hotel').count().orderBy('count').collect()\n",
    "sizes = [size[i]['count'] for i in range(0, len(size))]\n",
    "\n",
    "# As the name suggest, explode will determine how much each section is separated from each other \n",
    "explode = (0, 0.1)\n",
    "\n",
    "# Determine colour of pie chart\n",
    "colors = ['yellowgreen', 'lightcoral']\n",
    "\n",
    "plt.pie(sizes, explode=explode, labels=labels, colors=colors, autopct='%1.1f%%',startangle=90, textprops={'fontsize': 14})\n",
    "plt.show()\n"
   ]
  },
  {
   "cell_type": "code",
   "execution_count": 16,
   "metadata": {},
   "outputs": [
    {
     "data": {
      "text/plain": [
       "-0.23465777396902449"
      ]
     },
     "execution_count": 16,
     "metadata": {},
     "output_type": "execute_result"
    }
   ],
   "source": []
  },
  {
   "cell_type": "markdown",
   "metadata": {},
   "source": [
    "# Modeling Logistic"
   ]
  },
  {
   "cell_type": "code",
   "execution_count": 69,
   "metadata": {},
   "outputs": [],
   "source": [
    "from pyspark.ml.classification import LogisticRegression\n",
    "# A few things we need to do before Spark can accept the data!\n",
    "# It needs to be in the form of two columns: \"label\" and \"features\".\n",
    "\n",
    "# Import VectorAssembler and Vectors\n",
    "from pyspark.ml.linalg import Vectors\n",
    "from pyspark.ml.feature import VectorAssembler"
   ]
  },
  {
   "cell_type": "code",
   "execution_count": 71,
   "metadata": {},
   "outputs": [],
   "source": [
    "num_features = [\"lead_time\",\"arrival_date_week_number\",\"arrival_date_day_of_month\",\n",
    "                \"stays_in_weekend_nights\",\"stays_in_week_nights\",\"adults\", \"children\",\n",
    "                \"babies\",\"is_repeated_guest\", \"previous_cancellations\",\n",
    "                \"previous_bookings_not_canceled\",\"agent\",\"company\",\n",
    "                \"required_car_parking_spaces\", \"total_of_special_requests\", \"adr\"]\n",
    "\n",
    "cat_features = [\"hotel\",\"arrival_date_month\",\"meal\",\"market_segment\",\n",
    "                \"distribution_channel\",\"reserved_room_type\",\"deposit_type\",\"customer_type\"]\n",
    "\n",
    "selected = num_features + cat_features + [\"is_canceled\"]\n",
    "my_cols = df_clean.select(selected)"
   ]
  },
  {
   "cell_type": "code",
   "execution_count": 72,
   "metadata": {},
   "outputs": [
    {
     "name": "stdout",
     "output_type": "stream",
     "text": [
      "lead_time :  0.29312335576071835\n",
      "arrival_date_week_number :  0.008148065395053274\n",
      "arrival_date_day_of_month :  0.00613007886275798\n",
      "stays_in_weekend_nights :  0.0017910780782638314\n",
      "stays_in_week_nights :  0.024764629045870484\n",
      "adults :  0.06001721283955587\n",
      "children :  0.005036254836439652\n",
      "babies :  0.032491089208332935\n",
      "is_repeated_guest :  0.08479341835709014\n",
      "previous_cancellations :  0.11013280822284209\n",
      "previous_bookings_not_canceled :  0.05735772316594581\n",
      "agent :  0.04652945245026956\n",
      "company :  0.08299479643487706\n",
      "required_car_parking_spaces :  0.19549781749449852\n",
      "total_of_special_requests :  0.23465777396902449\n",
      "adr :  0.04755659788038999\n"
     ]
    }
   ],
   "source": [
    "for num_feature in num_features:\n",
    "    print(num_feature,\": \",abs(df_clean.stat.corr(\"is_canceled\", num_feature)))"
   ]
  },
  {
   "cell_type": "code",
   "execution_count": 73,
   "metadata": {},
   "outputs": [
    {
     "data": {
      "text/plain": [
       "['lead_time',\n",
       " 'arrival_date_week_number',\n",
       " 'arrival_date_day_of_month',\n",
       " 'stays_in_weekend_nights',\n",
       " 'stays_in_week_nights',\n",
       " 'adults',\n",
       " 'children',\n",
       " 'babies',\n",
       " 'is_repeated_guest',\n",
       " 'previous_cancellations',\n",
       " 'previous_bookings_not_canceled',\n",
       " 'agent',\n",
       " 'company',\n",
       " 'required_car_parking_spaces',\n",
       " 'total_of_special_requests',\n",
       " 'adr',\n",
       " 'hotel',\n",
       " 'arrival_date_month',\n",
       " 'meal',\n",
       " 'market_segment',\n",
       " 'distribution_channel',\n",
       " 'reserved_room_type',\n",
       " 'deposit_type',\n",
       " 'customer_type',\n",
       " 'is_canceled']"
      ]
     },
     "execution_count": 73,
     "metadata": {},
     "output_type": "execute_result"
    }
   ],
   "source": [
    "my_cols.columns"
   ]
  },
  {
   "cell_type": "code",
   "execution_count": 74,
   "metadata": {},
   "outputs": [],
   "source": [
    "from pyspark.ml.feature import (VectorAssembler,VectorIndexer,\n",
    "                                OneHotEncoder,StringIndexer)\n",
    "arrival_date_month_indexer = StringIndexer(inputCol='arrival_date_month',outputCol='arrival_date_monthIndex')\n",
    "arrival_date_month_encoder = OneHotEncoder(inputCol='arrival_date_monthIndex',outputCol='arrival_date_monthVec')\n",
    "\n",
    "meal_indexer = StringIndexer(inputCol='meal',outputCol='mealIndex')\n",
    "meal_encoder = OneHotEncoder(inputCol='mealIndex',outputCol='mealVec')\n",
    "\n",
    "hotel_indexer = StringIndexer(inputCol='hotel',outputCol='hotelIndex')\n",
    "hotel_encoder = OneHotEncoder(inputCol='hotelIndex',outputCol='hotelVec')\n",
    "\n",
    "market_segment_indexer = StringIndexer(inputCol='market_segment',outputCol='market_segmentIndex')\n",
    "market_segment_encoder = OneHotEncoder(inputCol='market_segmentIndex',outputCol='market_segmentVec')\n",
    "\n",
    "distribution_channel_indexer = StringIndexer(inputCol='distribution_channel',outputCol='distribution_channelIndex')\n",
    "distribution_channel_encoder = OneHotEncoder(inputCol='distribution_channelIndex',outputCol='distribution_channelVec')\n",
    "\n",
    "reserved_room_type_indexer = StringIndexer(inputCol='reserved_room_type',outputCol='reserved_room_typeIndex')\n",
    "reserved_room_type_encoder = OneHotEncoder(inputCol='reserved_room_typeIndex',outputCol='reserved_room_typeVec')\n",
    "\n",
    "deposit_type_indexer = StringIndexer(inputCol='deposit_type',outputCol='deposit_typeIndex')\n",
    "deposit_type_encoder = OneHotEncoder(inputCol='deposit_typeIndex',outputCol='deposit_typeVec')\n",
    "\n",
    "customer_type_indexer = StringIndexer(inputCol='customer_type',outputCol='customer_typeIndex')\n",
    "customer_type_encoder = OneHotEncoder(inputCol='customer_typeIndex',outputCol='customer_typeVec')\n",
    "\n",
    "cat_vec_features = [\"arrival_date_monthVec\",\"mealVec\", \"hotel\", \"market_segmentVec\",\n",
    "                \"distribution_channelVec\",\"reserved_room_typeVec\",\"deposit_typeVec\",\"customer_typeVec\"]\n",
    "features = num_features + cat_vec_features\n"
   ]
  },
  {
   "cell_type": "code",
   "execution_count": 75,
   "metadata": {},
   "outputs": [],
   "source": [
    "assembler = VectorAssembler(inputCols=num_features, outputCol=\"features\")\n",
    "output = assembler.transform(my_cols)"
   ]
  },
  {
   "cell_type": "code",
   "execution_count": 76,
   "metadata": {},
   "outputs": [],
   "source": [
    "from pyspark.ml import Pipeline\n",
    "log_reg_hotel = LogisticRegression(featuresCol='features',labelCol='is_canceled')\n",
    "pipeline = Pipeline(stages=[arrival_date_month_indexer, \n",
    "                           meal_indexer, hotel_indexer, market_segment_indexer, distribution_channel_indexer, \n",
    "                           reserved_room_type_indexer, deposit_type_indexer, customer_type_indexer, \n",
    "                            arrival_date_month_encoder, meal_encoder, hotel_encoder, market_segment_encoder, \n",
    "                           distribution_channel_encoder, reserved_room_type_encoder, deposit_type_encoder, \n",
    "                           customer_type_encoder, assembler, log_reg_hotel])"
   ]
  },
  {
   "cell_type": "code",
   "execution_count": 77,
   "metadata": {},
   "outputs": [],
   "source": [
    "train_log_data, test_log_data = my_cols.randomSplit([0.7,.3])"
   ]
  },
  {
   "cell_type": "code",
   "execution_count": 78,
   "metadata": {},
   "outputs": [],
   "source": [
    "fit_model_log = pipeline.fit(train_log_data)"
   ]
  },
  {
   "cell_type": "code",
   "execution_count": 79,
   "metadata": {},
   "outputs": [],
   "source": [
    "results = fit_model_log.transform(test_log_data)"
   ]
  },
  {
   "cell_type": "code",
   "execution_count": 80,
   "metadata": {},
   "outputs": [
    {
     "name": "stdout",
     "output_type": "stream",
     "text": [
      "+-----------+----------+\n",
      "|is_canceled|prediction|\n",
      "+-----------+----------+\n",
      "|          0|       1.0|\n",
      "|          0|       0.0|\n",
      "|          0|       0.0|\n",
      "|          0|       0.0|\n",
      "|          0|       0.0|\n",
      "|          0|       0.0|\n",
      "|          0|       0.0|\n",
      "|          0|       0.0|\n",
      "|          0|       0.0|\n",
      "|          0|       0.0|\n",
      "|          0|       0.0|\n",
      "|          0|       0.0|\n",
      "|          0|       0.0|\n",
      "|          0|       0.0|\n",
      "|          0|       0.0|\n",
      "|          0|       0.0|\n",
      "|          0|       0.0|\n",
      "|          0|       0.0|\n",
      "|          0|       0.0|\n",
      "|          0|       0.0|\n",
      "+-----------+----------+\n",
      "only showing top 20 rows\n",
      "\n"
     ]
    }
   ],
   "source": [
    "results.select('is_canceled','prediction').show()"
   ]
  },
  {
   "cell_type": "code",
   "execution_count": 81,
   "metadata": {},
   "outputs": [
    {
     "name": "stdout",
     "output_type": "stream",
     "text": [
      "Correct: 35699\n",
      "Total Correct: 25945\n",
      "Logistic\n",
      "Accuracy:  0.7267710580128295\n"
     ]
    }
   ],
   "source": [
    "totalResults = results.select('is_canceled','prediction')\n",
    "\n",
    "correctResults = totalResults.filter(totalResults['is_canceled'] == totalResults['prediction'])\n",
    "\n",
    "countTR = totalResults.count()\n",
    "print(\"Correct: \" + str(countTR))\n",
    "\n",
    "countTC = correctResults.count()\n",
    "print(\"Total Correct: \" + str(countTC)) \n",
    "print(\"Logistic\")\n",
    "print(\"Accuracy: \", countTC/countTR)"
   ]
  },
  {
   "cell_type": "markdown",
   "metadata": {},
   "source": [
    "# Modeling RF"
   ]
  },
  {
   "cell_type": "code",
   "execution_count": null,
   "metadata": {},
   "outputs": [],
   "source": []
  },
  {
   "cell_type": "code",
   "execution_count": 82,
   "metadata": {},
   "outputs": [],
   "source": [
    "final_data = output.select(\"features\",'is_canceled')"
   ]
  },
  {
   "cell_type": "code",
   "execution_count": 87,
   "metadata": {},
   "outputs": [],
   "source": [
    "train_data,test_data = my_cols.randomSplit([0.7,0.3])"
   ]
  },
  {
   "cell_type": "code",
   "execution_count": 88,
   "metadata": {},
   "outputs": [],
   "source": [
    "from pyspark.ml.classification import RandomForestClassifier\n",
    "\n",
    "rfc = RandomForestClassifier(labelCol='is_canceled',featuresCol='features')\n",
    "pipeline = Pipeline(stages=[arrival_date_month_indexer, \n",
    "                           meal_indexer, hotel_indexer, market_segment_indexer, distribution_channel_indexer, \n",
    "                           reserved_room_type_indexer, deposit_type_indexer, customer_type_indexer, \n",
    "                            arrival_date_month_encoder, meal_encoder, hotel_encoder, market_segment_encoder, \n",
    "                           distribution_channel_encoder, reserved_room_type_encoder, deposit_type_encoder, \n",
    "                           customer_type_encoder, assembler, rfc])"
   ]
  },
  {
   "cell_type": "code",
   "execution_count": 89,
   "metadata": {},
   "outputs": [],
   "source": [
    "rfc_model = pipeline.fit(train_data)"
   ]
  },
  {
   "cell_type": "code",
   "execution_count": 59,
   "metadata": {},
   "outputs": [],
   "source": []
  },
  {
   "cell_type": "code",
   "execution_count": 90,
   "metadata": {},
   "outputs": [],
   "source": [
    "rfc_predictions = rfc_model.transform(test_data)"
   ]
  },
  {
   "cell_type": "code",
   "execution_count": 91,
   "metadata": {},
   "outputs": [],
   "source": [
    "# Let's start off with binary classification.\n",
    "from pyspark.ml.evaluation import BinaryClassificationEvaluator\n",
    "\n",
    "# Note that the label column isn't named label, it's named PrivateIndex in this case.\n",
    "my_binary_eval = BinaryClassificationEvaluator(labelCol = 'is_canceled')"
   ]
  },
  {
   "cell_type": "code",
   "execution_count": 92,
   "metadata": {},
   "outputs": [
    {
     "name": "stdout",
     "output_type": "stream",
     "text": [
      "RFC\n",
      "0.8115633397800316\n"
     ]
    }
   ],
   "source": [
    "# RFC improves accuracy but also model complexity. RFC outperforms DTC in nearly every situation.\n",
    "print(\"RFC\")\n",
    "print(my_binary_eval.evaluate(rfc_predictions))"
   ]
  },
  {
   "cell_type": "code",
   "execution_count": 93,
   "metadata": {},
   "outputs": [],
   "source": [
    "from pyspark.ml.evaluation import MulticlassClassificationEvaluator\n",
    "acc_evaluator = MulticlassClassificationEvaluator(labelCol=\"is_canceled\", predictionCol=\"prediction\", metricName=\"accuracy\")\n",
    "rfc_acc = acc_evaluator.evaluate(rfc_predictions)"
   ]
  },
  {
   "cell_type": "code",
   "execution_count": 94,
   "metadata": {},
   "outputs": [
    {
     "name": "stdout",
     "output_type": "stream",
     "text": [
      "Here are the results!\n",
      "----------------------------------------\n",
      "A random forest ensemble has an accuracy of: 75.28%\n"
     ]
    }
   ],
   "source": [
    "print(\"Here are the results!\")\n",
    "print('-'*40)\n",
    "print('A random forest ensemble has an accuracy of: {0:2.2f}%'.format(rfc_acc*100))"
   ]
  },
  {
   "cell_type": "code",
   "execution_count": null,
   "metadata": {},
   "outputs": [],
   "source": []
  }
 ],
 "metadata": {
  "kernelspec": {
   "display_name": "Python 3",
   "language": "python",
   "name": "python3"
  },
  "language_info": {
   "codemirror_mode": {
    "name": "ipython",
    "version": 3
   },
   "file_extension": ".py",
   "mimetype": "text/x-python",
   "name": "python",
   "nbconvert_exporter": "python",
   "pygments_lexer": "ipython3",
   "version": "3.5.2"
  }
 },
 "nbformat": 4,
 "nbformat_minor": 4
}
